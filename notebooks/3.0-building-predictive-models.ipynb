{
 "cells": [
  {
   "cell_type": "markdown",
   "id": "123583b3",
   "metadata": {},
   "source": [
    "### Building Predictive Models - Part I"
   ]
  },
  {
   "cell_type": "code",
   "execution_count": 1,
   "id": "457d8dd4",
   "metadata": {},
   "outputs": [],
   "source": [
    "import pandas as pd\n",
    "import os\n",
    "import numpy as np"
   ]
  },
  {
   "cell_type": "markdown",
   "id": "fa33545a",
   "metadata": {},
   "source": [
    "#### Import Data"
   ]
  },
  {
   "cell_type": "code",
   "execution_count": 2,
   "id": "339f6d06",
   "metadata": {},
   "outputs": [],
   "source": [
    "# set the path of the processed data\n",
    "processed_data_path = os.path.join(os.path.pardir, 'data', 'processed')\n",
    "train_file_path = os.path.join(processed_data_path, 'train.csv')\n",
    "test_file_path = os.path.join(processed_data_path, 'test.csv')"
   ]
  },
  {
   "cell_type": "code",
   "execution_count": 3,
   "id": "283acb42",
   "metadata": {},
   "outputs": [],
   "source": [
    "train_df = pd.read_csv(train_file_path, index_col = 'PassengerId')\n",
    "test_df = pd.read_csv(test_file_path, index_col = 'PassengerId')"
   ]
  },
  {
   "cell_type": "code",
   "execution_count": 4,
   "id": "401551e2",
   "metadata": {},
   "outputs": [
    {
     "name": "stdout",
     "output_type": "stream",
     "text": [
      "<class 'pandas.core.frame.DataFrame'>\n",
      "Int64Index: 891 entries, 1 to 891\n",
      "Data columns (total 33 columns):\n",
      " #   Column              Non-Null Count  Dtype  \n",
      "---  ------              --------------  -----  \n",
      " 0   Survived            891 non-null    int64  \n",
      " 1   Age                 891 non-null    float64\n",
      " 2   Fare                891 non-null    float64\n",
      " 3   FamilySize          891 non-null    int64  \n",
      " 4   IsMother            891 non-null    int64  \n",
      " 5   IsMale              891 non-null    int64  \n",
      " 6   Deck_A              891 non-null    int64  \n",
      " 7   Deck_B              891 non-null    int64  \n",
      " 8   Deck_C              891 non-null    int64  \n",
      " 9   Deck_D              891 non-null    int64  \n",
      " 10  Deck_E              891 non-null    int64  \n",
      " 11  Deck_F              891 non-null    int64  \n",
      " 12  Deck_G              891 non-null    int64  \n",
      " 13  Deck_z              891 non-null    int64  \n",
      " 14  Pclass_1            891 non-null    int64  \n",
      " 15  Pclass_2            891 non-null    int64  \n",
      " 16  Pclass_3            891 non-null    int64  \n",
      " 17  Title_Lady          891 non-null    int64  \n",
      " 18  Title_Master        891 non-null    int64  \n",
      " 19  Title_Miss          891 non-null    int64  \n",
      " 20  Title_Mr            891 non-null    int64  \n",
      " 21  Title_Mrs           891 non-null    int64  \n",
      " 22  Title_Officer       891 non-null    int64  \n",
      " 23  Title_Sir           891 non-null    int64  \n",
      " 24  Fare_Bin_very_low   891 non-null    int64  \n",
      " 25  Fare_Bin_low        891 non-null    int64  \n",
      " 26  Fare_Bin_high       891 non-null    int64  \n",
      " 27  Fare_Bin_very_high  891 non-null    int64  \n",
      " 28  Embarked_C          891 non-null    int64  \n",
      " 29  Embarked_Q          891 non-null    int64  \n",
      " 30  Embarked_S          891 non-null    int64  \n",
      " 31  AgeState_Adult      891 non-null    int64  \n",
      " 32  AgeState_Child      891 non-null    int64  \n",
      "dtypes: float64(2), int64(31)\n",
      "memory usage: 236.7 KB\n"
     ]
    }
   ],
   "source": [
    "train_df.info()"
   ]
  },
  {
   "cell_type": "code",
   "execution_count": 5,
   "id": "16c16d0f",
   "metadata": {},
   "outputs": [
    {
     "name": "stdout",
     "output_type": "stream",
     "text": [
      "<class 'pandas.core.frame.DataFrame'>\n",
      "Int64Index: 418 entries, 892 to 1309\n",
      "Data columns (total 32 columns):\n",
      " #   Column              Non-Null Count  Dtype  \n",
      "---  ------              --------------  -----  \n",
      " 0   Age                 418 non-null    float64\n",
      " 1   Fare                418 non-null    float64\n",
      " 2   FamilySize          418 non-null    int64  \n",
      " 3   IsMother            418 non-null    int64  \n",
      " 4   IsMale              418 non-null    int64  \n",
      " 5   Deck_A              418 non-null    int64  \n",
      " 6   Deck_B              418 non-null    int64  \n",
      " 7   Deck_C              418 non-null    int64  \n",
      " 8   Deck_D              418 non-null    int64  \n",
      " 9   Deck_E              418 non-null    int64  \n",
      " 10  Deck_F              418 non-null    int64  \n",
      " 11  Deck_G              418 non-null    int64  \n",
      " 12  Deck_z              418 non-null    int64  \n",
      " 13  Pclass_1            418 non-null    int64  \n",
      " 14  Pclass_2            418 non-null    int64  \n",
      " 15  Pclass_3            418 non-null    int64  \n",
      " 16  Title_Lady          418 non-null    int64  \n",
      " 17  Title_Master        418 non-null    int64  \n",
      " 18  Title_Miss          418 non-null    int64  \n",
      " 19  Title_Mr            418 non-null    int64  \n",
      " 20  Title_Mrs           418 non-null    int64  \n",
      " 21  Title_Officer       418 non-null    int64  \n",
      " 22  Title_Sir           418 non-null    int64  \n",
      " 23  Fare_Bin_very_low   418 non-null    int64  \n",
      " 24  Fare_Bin_low        418 non-null    int64  \n",
      " 25  Fare_Bin_high       418 non-null    int64  \n",
      " 26  Fare_Bin_very_high  418 non-null    int64  \n",
      " 27  Embarked_C          418 non-null    int64  \n",
      " 28  Embarked_Q          418 non-null    int64  \n",
      " 29  Embarked_S          418 non-null    int64  \n",
      " 30  AgeState_Adult      418 non-null    int64  \n",
      " 31  AgeState_Child      418 non-null    int64  \n",
      "dtypes: float64(2), int64(30)\n",
      "memory usage: 107.8 KB\n"
     ]
    }
   ],
   "source": [
    "test_df.info()"
   ]
  },
  {
   "cell_type": "markdown",
   "id": "5b1c621c",
   "metadata": {},
   "source": [
    "#### Data Preparation"
   ]
  },
  {
   "cell_type": "code",
   "execution_count": 6,
   "id": "a7db9185",
   "metadata": {},
   "outputs": [],
   "source": [
    "X = train_df.loc[:, 'Age':].values.astype('float') # Take all rows & columnns from starting from Age and convert their data type to real float\n",
    "y = train_df['Survived'].ravel() # For output, use ravel() which is a numpy function which creates a flattend 1-D arrary"
   ]
  },
  {
   "cell_type": "code",
   "execution_count": 7,
   "id": "c354e2dd",
   "metadata": {},
   "outputs": [
    {
     "name": "stdout",
     "output_type": "stream",
     "text": [
      "(891, 32) (891,)\n"
     ]
    }
   ],
   "source": [
    "print(X.shape, y.shape)"
   ]
  },
  {
   "cell_type": "code",
   "execution_count": 8,
   "id": "a505f9f2",
   "metadata": {},
   "outputs": [
    {
     "name": "stdout",
     "output_type": "stream",
     "text": [
      "(712, 32) (712,)\n",
      "(179, 32) (179,)\n"
     ]
    }
   ],
   "source": [
    "# Perform the train test split using the training data\n",
    "from sklearn.model_selection import train_test_split\n",
    "X_train, X_test, y_train, y_test = train_test_split(X, y, test_size = 0.2, random_state = 0) # random_state is the used as a seed value or randomization value\n",
    "print(X_train.shape, y_train.shape)\n",
    "print(X_test.shape, y_test.shape)                                                "
   ]
  },
  {
   "cell_type": "code",
   "execution_count": 9,
   "id": "82ca21e2",
   "metadata": {},
   "outputs": [
    {
     "name": "stdout",
     "output_type": "stream",
     "text": [
      "Mean Survival in train data: 0.383\n",
      "Mean Survival in test data: 0.385\n"
     ]
    }
   ],
   "source": [
    "# Average survival in train and test\n",
    "print('Mean Survival in train data: {0:.3f}'.format(np.mean(y_train)))\n",
    "print('Mean Survival in test data: {0:.3f}'.format(np.mean(y_test)))"
   ]
  },
  {
   "cell_type": "markdown",
   "id": "72576cbb",
   "metadata": {},
   "source": [
    "##### Validate the Scikit-Learn Version"
   ]
  },
  {
   "cell_type": "code",
   "execution_count": 10,
   "id": "2d67c6f0",
   "metadata": {},
   "outputs": [],
   "source": [
    "import sklearn"
   ]
  },
  {
   "cell_type": "code",
   "execution_count": 11,
   "id": "9d73cbbd",
   "metadata": {},
   "outputs": [
    {
     "data": {
      "text/plain": [
       "'0.24.2'"
      ]
     },
     "execution_count": 11,
     "metadata": {},
     "output_type": "execute_result"
    }
   ],
   "source": [
    "sklearn.__version__"
   ]
  },
  {
   "cell_type": "markdown",
   "id": "5532f037",
   "metadata": {},
   "source": [
    "#### Baseline the Model"
   ]
  },
  {
   "cell_type": "code",
   "execution_count": 12,
   "id": "15587876",
   "metadata": {},
   "outputs": [],
   "source": [
    "# import function\n",
    "from sklearn.dummy import DummyClassifier # To create a baseline model import DummyClassifier"
   ]
  },
  {
   "cell_type": "code",
   "execution_count": 13,
   "id": "1c36680c",
   "metadata": {},
   "outputs": [],
   "source": [
    "# Creating a model\n",
    "model_dummy = DummyClassifier(strategy = 'most_frequent', random_state = 0)"
   ]
  },
  {
   "cell_type": "code",
   "execution_count": 14,
   "id": "55f20608",
   "metadata": {},
   "outputs": [
    {
     "data": {
      "text/plain": [
       "DummyClassifier(random_state=0, strategy='most_frequent')"
      ]
     },
     "execution_count": 14,
     "metadata": {},
     "output_type": "execute_result"
    }
   ],
   "source": [
    "# Training a model\n",
    "model_dummy.fit(X_train, y_train) # It takes input and output data"
   ]
  },
  {
   "cell_type": "code",
   "execution_count": 15,
   "id": "7079ed3c",
   "metadata": {},
   "outputs": [
    {
     "name": "stdout",
     "output_type": "stream",
     "text": [
      "Score for the Baseline Model: 0.61\n"
     ]
    }
   ],
   "source": [
    "print('Score for the Baseline Model: {0:.2f}'.format(model_dummy.score(X_test, y_test))) ## Accuracy"
   ]
  },
  {
   "cell_type": "code",
   "execution_count": 16,
   "id": "4c4a1370",
   "metadata": {},
   "outputs": [],
   "source": [
    "# Performance Metrics\n",
    "from sklearn.metrics import accuracy_score, confusion_matrix, precision_score, recall_score"
   ]
  },
  {
   "cell_type": "code",
   "execution_count": 17,
   "id": "1eff3cb7",
   "metadata": {},
   "outputs": [
    {
     "name": "stdout",
     "output_type": "stream",
     "text": [
      "Accracy for the Baseline Model is : 0.61\n"
     ]
    }
   ],
   "source": [
    "# Accuracy Score\n",
    "print('Accracy for the Baseline Model is : {0:.2f}'.format(accuracy_score(y_test, model_dummy.predict(X_test))))"
   ]
  },
  {
   "cell_type": "code",
   "execution_count": 18,
   "id": "c586b8a5",
   "metadata": {},
   "outputs": [
    {
     "name": "stdout",
     "output_type": "stream",
     "text": [
      "Confusion matrix for the Baseline Model is : \n",
      " [[110   0]\n",
      " [ 69   0]]\n"
     ]
    }
   ],
   "source": [
    "# Confusion Matrix\n",
    "print('Confusion matrix for the Baseline Model is : \\n {0}'.format(confusion_matrix(y_test, model_dummy.predict(X_test))))"
   ]
  },
  {
   "cell_type": "code",
   "execution_count": 19,
   "id": "05ea7762",
   "metadata": {},
   "outputs": [
    {
     "name": "stdout",
     "output_type": "stream",
     "text": [
      "Precision Score for the Baseline Model is : 0.00\n"
     ]
    }
   ],
   "source": [
    "import warnings\n",
    "warnings.filterwarnings('ignore')\n",
    "\n",
    "# Precision Score\n",
    "print('Precision Score for the Baseline Model is : {0:.2f}'.format(precision_score(y_test, model_dummy.predict(X_test))))"
   ]
  },
  {
   "cell_type": "code",
   "execution_count": 20,
   "id": "c53a5711",
   "metadata": {},
   "outputs": [
    {
     "name": "stdout",
     "output_type": "stream",
     "text": [
      "Recall Score for the Baseline Model is : 0.00\n"
     ]
    }
   ],
   "source": [
    "# Recall Score\n",
    "print('Recall Score for the Baseline Model is : {0:.2f}'.format(recall_score(y_test, model_dummy.predict(X_test))))"
   ]
  },
  {
   "cell_type": "markdown",
   "id": "58622526",
   "metadata": {},
   "source": [
    "### First Kaggle Submission"
   ]
  },
  {
   "cell_type": "code",
   "execution_count": 21,
   "id": "4729804b",
   "metadata": {},
   "outputs": [],
   "source": [
    "# Converting to the Matrix\n",
    "test_X = test_df.values.astype('float') # Converting the test data frame to 2-D Matrix and converting matrix to floating type"
   ]
  },
  {
   "cell_type": "code",
   "execution_count": 22,
   "id": "f78c827d",
   "metadata": {},
   "outputs": [],
   "source": [
    "# Make Predictions\n",
    "predictions = model_dummy.predict(test_X)"
   ]
  },
  {
   "cell_type": "code",
   "execution_count": 23,
   "id": "24a14c3a",
   "metadata": {},
   "outputs": [],
   "source": [
    "df_submission = pd.DataFrame({'PassengerId': test_df.index, 'Survived' : predictions})"
   ]
  },
  {
   "cell_type": "code",
   "execution_count": 24,
   "id": "ab1ecf7f",
   "metadata": {},
   "outputs": [
    {
     "data": {
      "text/html": [
       "<div>\n",
       "<style scoped>\n",
       "    .dataframe tbody tr th:only-of-type {\n",
       "        vertical-align: middle;\n",
       "    }\n",
       "\n",
       "    .dataframe tbody tr th {\n",
       "        vertical-align: top;\n",
       "    }\n",
       "\n",
       "    .dataframe thead th {\n",
       "        text-align: right;\n",
       "    }\n",
       "</style>\n",
       "<table border=\"1\" class=\"dataframe\">\n",
       "  <thead>\n",
       "    <tr style=\"text-align: right;\">\n",
       "      <th></th>\n",
       "      <th>PassengerId</th>\n",
       "      <th>Survived</th>\n",
       "    </tr>\n",
       "  </thead>\n",
       "  <tbody>\n",
       "    <tr>\n",
       "      <th>0</th>\n",
       "      <td>892</td>\n",
       "      <td>0</td>\n",
       "    </tr>\n",
       "    <tr>\n",
       "      <th>1</th>\n",
       "      <td>893</td>\n",
       "      <td>0</td>\n",
       "    </tr>\n",
       "    <tr>\n",
       "      <th>2</th>\n",
       "      <td>894</td>\n",
       "      <td>0</td>\n",
       "    </tr>\n",
       "    <tr>\n",
       "      <th>3</th>\n",
       "      <td>895</td>\n",
       "      <td>0</td>\n",
       "    </tr>\n",
       "    <tr>\n",
       "      <th>4</th>\n",
       "      <td>896</td>\n",
       "      <td>0</td>\n",
       "    </tr>\n",
       "  </tbody>\n",
       "</table>\n",
       "</div>"
      ],
      "text/plain": [
       "   PassengerId  Survived\n",
       "0          892         0\n",
       "1          893         0\n",
       "2          894         0\n",
       "3          895         0\n",
       "4          896         0"
      ]
     },
     "execution_count": 24,
     "metadata": {},
     "output_type": "execute_result"
    }
   ],
   "source": [
    "df_submission.head()"
   ]
  },
  {
   "cell_type": "code",
   "execution_count": 25,
   "id": "ad0b02cd",
   "metadata": {},
   "outputs": [],
   "source": [
    "submission_data_path = os.path.join(os.path.pardir, 'data', 'external')\n",
    "submission_data_file = os.path.join(submission_data_path, '01_dummy.csv')"
   ]
  },
  {
   "cell_type": "code",
   "execution_count": 26,
   "id": "7517cf64",
   "metadata": {},
   "outputs": [],
   "source": [
    "df_submission.to_csv(submission_data_file, index=False)\n",
    "# index = False to supress the additional column which will be created in the final output file with indexes"
   ]
  },
  {
   "cell_type": "code",
   "execution_count": 38,
   "id": "407b94b0",
   "metadata": {},
   "outputs": [],
   "source": [
    " def get_submission_file(model, filename):\n",
    "        # converting to the matrix\n",
    "        test_X = test_df.values.astype('float')\n",
    "        # make predictions\n",
    "        predictions = model.predict(test_X)\n",
    "        # dataframe for submission\n",
    "        df_submission = pd.DataFrame({'PassengerId': test_df.index, 'Survived' : predictions})\n",
    "        # generating a submission file\n",
    "        submission_data_path = os.path.join(os.path.pardir, 'data', 'external')\n",
    "        submission_data_file = os.path.join(submission_data_path, filename)\n",
    "        # writing to the submission file\n",
    "        df_submission.to_csv(submission_data_file, index=False)"
   ]
  },
  {
   "cell_type": "code",
   "execution_count": 28,
   "id": "c91f0bee",
   "metadata": {},
   "outputs": [],
   "source": [
    "# get submission file\n",
    "get_submission_file(model_dummy, '01_dummy.csv')"
   ]
  },
  {
   "cell_type": "code",
   "execution_count": 29,
   "id": "65f1467c",
   "metadata": {},
   "outputs": [
    {
     "name": "stdout",
     "output_type": "stream",
     "text": [
      "Successfully submitted to Titanic - Machine Learning from Disaster\n"
     ]
    },
    {
     "name": "stderr",
     "output_type": "stream",
     "text": [
      "\n",
      "  0%|          | 0.00/3.18k [00:00<?, ?B/s]\n",
      "100%|##########| 3.18k/3.18k [00:00<00:00, 4.77kB/s]\n",
      "100%|##########| 3.18k/3.18k [00:02<00:00, 1.51kB/s]\n"
     ]
    }
   ],
   "source": [
    "!kaggle competitions submit -c titanic -f ..\\data\\external\\01_dummy.csv -m \"01 Baseline Model\""
   ]
  },
  {
   "cell_type": "markdown",
   "id": "2b0bbb29",
   "metadata": {},
   "source": [
    "#### Logisitical Regression Model"
   ]
  },
  {
   "cell_type": "code",
   "execution_count": 30,
   "id": "795ec8b3",
   "metadata": {},
   "outputs": [],
   "source": [
    "# import function\n",
    "from sklearn.linear_model import LogisticRegression"
   ]
  },
  {
   "cell_type": "code",
   "execution_count": 31,
   "id": "8b1eefbe",
   "metadata": {},
   "outputs": [],
   "source": [
    "# Create the Model\n",
    "model_lr_1 = LogisticRegression(random_state = 0)"
   ]
  },
  {
   "cell_type": "code",
   "execution_count": 32,
   "id": "dfd755c9",
   "metadata": {},
   "outputs": [
    {
     "data": {
      "text/plain": [
       "LogisticRegression(random_state=0)"
      ]
     },
     "execution_count": 32,
     "metadata": {},
     "output_type": "execute_result"
    }
   ],
   "source": [
    "# Train the model\n",
    "model_lr_1.fit(X_train, y_train)"
   ]
  },
  {
   "cell_type": "code",
   "execution_count": 33,
   "id": "aa98fa8f",
   "metadata": {},
   "outputs": [
    {
     "name": "stdout",
     "output_type": "stream",
     "text": [
      "Score for the Logistic Regression Model Version 1 is : 0.83\n"
     ]
    }
   ],
   "source": [
    "# Evaluate the model\n",
    "print('Score for the Logistic Regression Model Version 1 is : {0:.2f}'.format(model_lr_1.score(X_test, y_test))) ## Accuracy"
   ]
  },
  {
   "cell_type": "code",
   "execution_count": 34,
   "id": "847eeb4d",
   "metadata": {},
   "outputs": [
    {
     "name": "stdout",
     "output_type": "stream",
     "text": [
      "Accracy for the Logistic Regression Model Version 1 is : 0.83\n",
      "Confusion matrix for the Logistic Regression Model Version 1 is : \n",
      " [[95 15]\n",
      " [15 54]]\n",
      "Precision Score for the Logistic Regression Model Version 1 is : 0.78\n",
      "Recall Score for the Logistic Regression Model Version 1 is : 0.78\n"
     ]
    }
   ],
   "source": [
    "# Evaluating the performance Matrices\n",
    "\n",
    "# Accuracy\n",
    "print('Accracy for the Logistic Regression Model Version 1 is : {0:.2f}'.format(accuracy_score(y_test, model_lr_1.predict(X_test))))\n",
    "\n",
    "# Confusion Matrix\n",
    "print('Confusion matrix for the Logistic Regression Model Version 1 is : \\n {0}'.format(confusion_matrix(y_test, model_lr_1.predict(X_test))))\n",
    "\n",
    "# Precision Score\n",
    "print('Precision Score for the Logistic Regression Model Version 1 is : {0:.2f}'.format(precision_score(y_test, model_lr_1.predict(X_test))))\n",
    "\n",
    "# Precision Score\n",
    "print('Recall Score for the Logistic Regression Model Version 1 is : {0:.2f}'.format(recall_score(y_test, model_lr_1.predict(X_test))))"
   ]
  },
  {
   "cell_type": "code",
   "execution_count": 35,
   "id": "4eac7354",
   "metadata": {},
   "outputs": [
    {
     "data": {
      "text/plain": [
       "array([[-0.03108255,  0.0042563 , -0.49562515,  0.62938038, -0.73371338,\n",
       "         0.12095211, -0.07736283, -0.37295122,  0.4836195 ,  1.03509223,\n",
       "         0.26883505, -0.05071579, -0.36235192,  0.90425344,  0.47401862,\n",
       "        -0.33315492,  0.10930546,  1.05991081,  0.50093029, -1.47897019,\n",
       "         1.16859477, -0.10330668, -0.21134732,  0.1609539 ,  0.21649565,\n",
       "         0.2323362 ,  0.4353314 ,  0.43826022,  0.49903308,  0.10782384,\n",
       "         0.35844359,  0.68667355]])"
      ]
     },
     "execution_count": 35,
     "metadata": {},
     "output_type": "execute_result"
    }
   ],
   "source": [
    "# Model Coefficients\n",
    "model_lr_1.coef_ # model coef or model weights or model weights"
   ]
  },
  {
   "cell_type": "markdown",
   "id": "6490a6b0",
   "metadata": {},
   "source": [
    "### Second Kaggle Submission"
   ]
  },
  {
   "cell_type": "code",
   "execution_count": 39,
   "id": "993544ac",
   "metadata": {},
   "outputs": [],
   "source": [
    "# Use the get submission file\n",
    "get_submission_file(model_lr_1, '02_lr.csv')"
   ]
  },
  {
   "cell_type": "code",
   "execution_count": 40,
   "id": "01e1de87",
   "metadata": {},
   "outputs": [
    {
     "name": "stdout",
     "output_type": "stream",
     "text": [
      "Successfully submitted to Titanic - Machine Learning from Disaster\n"
     ]
    },
    {
     "name": "stderr",
     "output_type": "stream",
     "text": [
      "\n",
      "  0%|          | 0.00/3.18k [00:00<?, ?B/s]\n",
      "100%|##########| 3.18k/3.18k [00:00<00:00, 15.0kB/s]\n",
      "100%|##########| 3.18k/3.18k [00:01<00:00, 2.77kB/s]\n"
     ]
    }
   ],
   "source": [
    "!kaggle competitions submit -c titanic -f ..\\data\\external\\02_lr.csv -m \"02 Second Submission Using Logistical Regression Model\""
   ]
  },
  {
   "cell_type": "markdown",
   "id": "9d4457a9",
   "metadata": {},
   "source": [
    "### Building Predictive Models - Part II"
   ]
  },
  {
   "cell_type": "markdown",
   "id": "f629caf0",
   "metadata": {},
   "source": [
    "#### Hyperparameter Optimization"
   ]
  },
  {
   "cell_type": "code",
   "execution_count": 58,
   "id": "14fffd16",
   "metadata": {},
   "outputs": [],
   "source": [
    "## Base Model\n",
    "model_lr = LogisticRegression(random_state = 0)"
   ]
  },
  {
   "cell_type": "code",
   "execution_count": 59,
   "id": "4ff59e33",
   "metadata": {},
   "outputs": [],
   "source": [
    "from sklearn.model_selection import GridSearchCV # "
   ]
  },
  {
   "cell_type": "code",
   "execution_count": 62,
   "id": "9d3e60ed",
   "metadata": {},
   "outputs": [],
   "source": [
    "parameters = {'C' : [1.0, 10.0, 50.0, 100.0, 1000.0], 'penalty' : ['l1', 'l2']}\n",
    "\n",
    "clf = GridSearchCV(model_lr, param_grid = parameters, cv = 3)\n",
    "# C parameter controls the penality strength"
   ]
  },
  {
   "cell_type": "code",
   "execution_count": 63,
   "id": "d0c75d12",
   "metadata": {},
   "outputs": [
    {
     "data": {
      "text/plain": [
       "GridSearchCV(cv=3, estimator=LogisticRegression(random_state=0),\n",
       "             param_grid={'C': [1.0, 10.0, 50.0, 100.0, 1000.0],\n",
       "                         'penalty': ['l1', 'l2']})"
      ]
     },
     "execution_count": 63,
     "metadata": {},
     "output_type": "execute_result"
    }
   ],
   "source": [
    "clf.fit(X_train, y_train)"
   ]
  },
  {
   "cell_type": "code",
   "execution_count": 64,
   "id": "76cb2540",
   "metadata": {},
   "outputs": [
    {
     "data": {
      "text/plain": [
       "{'C': 10.0, 'penalty': 'l2'}"
      ]
     },
     "execution_count": 64,
     "metadata": {},
     "output_type": "execute_result"
    }
   ],
   "source": [
    "clf.best_params_"
   ]
  },
  {
   "cell_type": "code",
   "execution_count": 65,
   "id": "26051c90",
   "metadata": {},
   "outputs": [
    {
     "name": "stdout",
     "output_type": "stream",
     "text": [
      "best score : 0.83\n"
     ]
    }
   ],
   "source": [
    "print('best score : {0:.2f}'.format(clf.best_score_))"
   ]
  },
  {
   "cell_type": "code",
   "execution_count": 66,
   "id": "4f9d41a7",
   "metadata": {},
   "outputs": [
    {
     "name": "stdout",
     "output_type": "stream",
     "text": [
      "Score for the Logistic Regression Model Version 3 is : 0.83\n"
     ]
    }
   ],
   "source": [
    "# Evaluate the model\n",
    "print('Score for the Logistic Regression Model Version 3 is : {0:.2f}'.format(clf.score(X_test, y_test)))"
   ]
  },
  {
   "cell_type": "markdown",
   "id": "e1a0a611",
   "metadata": {},
   "source": [
    "### Third and Final Kaggle Submission"
   ]
  },
  {
   "cell_type": "code",
   "execution_count": 69,
   "id": "03e80700",
   "metadata": {},
   "outputs": [],
   "source": [
    "get_submission_file(clf, '03_lr.csv')"
   ]
  },
  {
   "cell_type": "code",
   "execution_count": 70,
   "id": "b270897a",
   "metadata": {},
   "outputs": [
    {
     "name": "stdout",
     "output_type": "stream",
     "text": [
      "Successfully submitted to Titanic - Machine Learning from Disaster\n"
     ]
    },
    {
     "name": "stderr",
     "output_type": "stream",
     "text": [
      "\n",
      "  0%|          | 0.00/3.18k [00:00<?, ?B/s]\n",
      "100%|##########| 3.18k/3.18k [00:00<00:00, 20.3kB/s]\n",
      "100%|##########| 3.18k/3.18k [00:01<00:00, 2.73kB/s]\n"
     ]
    }
   ],
   "source": [
    "!kaggle competitions submit -c titanic -f ..\\data\\external\\03_lr.csv -m \"03 Third Submission Using Logistical Regression Model\""
   ]
  },
  {
   "cell_type": "markdown",
   "id": "d4a58429",
   "metadata": {},
   "source": [
    "#### Feature Normalization and Standardization "
   ]
  },
  {
   "cell_type": "code",
   "execution_count": 78,
   "id": "1730e42e",
   "metadata": {},
   "outputs": [],
   "source": [
    "from sklearn.preprocessing import MinMaxScaler, StandardScaler"
   ]
  },
  {
   "cell_type": "markdown",
   "id": "f391a53e",
   "metadata": {},
   "source": [
    "#### Feature Normalization"
   ]
  },
  {
   "cell_type": "code",
   "execution_count": 79,
   "id": "73b27860",
   "metadata": {},
   "outputs": [],
   "source": [
    "scaler = MinMaxScaler()\n",
    "X_train_scaled = scaler.fit_transform(X_train)"
   ]
  },
  {
   "cell_type": "code",
   "execution_count": 80,
   "id": "b2d72ec9",
   "metadata": {},
   "outputs": [
    {
     "data": {
      "text/plain": [
       "(0.0, 1.0)"
      ]
     },
     "execution_count": 80,
     "metadata": {},
     "output_type": "execute_result"
    }
   ],
   "source": [
    "X_train_scaled[:,0].min(), X_train_scaled[:,0].max()"
   ]
  },
  {
   "cell_type": "code",
   "execution_count": 81,
   "id": "2a6618c0",
   "metadata": {},
   "outputs": [],
   "source": [
    "# normalize the test data\n",
    "X_test_scaled = scaler.transform(X_test)"
   ]
  },
  {
   "cell_type": "markdown",
   "id": "00b483d9",
   "metadata": {},
   "source": [
    "#### Feature Standardization"
   ]
  },
  {
   "cell_type": "code",
   "execution_count": 82,
   "id": "6bb89abd",
   "metadata": {},
   "outputs": [],
   "source": [
    "scaler = StandardScaler()\n",
    "X_train_scaled = scaler.fit_transform(X_train)\n",
    "X_test_scaled = scaler.transform(X_test)"
   ]
  },
  {
   "cell_type": "code",
   "execution_count": 83,
   "id": "81499dfa",
   "metadata": {},
   "outputs": [
    {
     "data": {
      "text/plain": [
       "GridSearchCV(cv=3, estimator=LogisticRegression(),\n",
       "             param_grid={'C': [1.0, 10.0, 50.0, 100.0, 1000.0],\n",
       "                         'penalty': ['l1', 'l2']})"
      ]
     },
     "execution_count": 83,
     "metadata": {},
     "output_type": "execute_result"
    }
   ],
   "source": [
    "# Base Model\n",
    "model_lr = LogisticRegression()\n",
    "parameters = {'C' : [1.0, 10.0, 50.0, 100.0, 1000.0], 'penalty' : ['l1', 'l2']}\n",
    "clf = GridSearchCV(model_lr, param_grid = parameters, cv = 3)\n",
    "clf.fit(X_train_scaled, y_train)"
   ]
  },
  {
   "cell_type": "code",
   "execution_count": 84,
   "id": "8210f143",
   "metadata": {},
   "outputs": [
    {
     "data": {
      "text/plain": [
       "0.8089978607476747"
      ]
     },
     "execution_count": 84,
     "metadata": {},
     "output_type": "execute_result"
    }
   ],
   "source": [
    "clf.best_score_"
   ]
  },
  {
   "cell_type": "code",
   "execution_count": 85,
   "id": "1348e9a9",
   "metadata": {},
   "outputs": [
    {
     "name": "stdout",
     "output_type": "stream",
     "text": [
      "Score for the Logistic Regression Model Scaled Version is : 0.84\n"
     ]
    }
   ],
   "source": [
    "print('Score for the Logistic Regression Model Scaled Version is : {0:.2f}'.format(clf.score(X_test_scaled, y_test)))"
   ]
  },
  {
   "cell_type": "markdown",
   "id": "c60f94ef",
   "metadata": {},
   "source": [
    "#### Model Persistence"
   ]
  },
  {
   "cell_type": "code",
   "execution_count": 94,
   "id": "1924c48d",
   "metadata": {},
   "outputs": [],
   "source": [
    "# import pickle library\n",
    "import pickle"
   ]
  },
  {
   "cell_type": "code",
   "execution_count": 95,
   "id": "29f89311",
   "metadata": {},
   "outputs": [],
   "source": [
    "# create the file paths\n",
    "model_file_path = os.path.join(os.path.pardir, 'models', 'lr_model.pkl')\n",
    "scaler_file_path = os.path.join(os.path.pardir, 'models', 'lr_scaler.pkl')"
   ]
  },
  {
   "cell_type": "code",
   "execution_count": 96,
   "id": "3b1e8fbc",
   "metadata": {},
   "outputs": [],
   "source": [
    "# open the files to write\n",
    "model_file_pickle = open(model_file_path, 'wb') # wb is for the binary format\n",
    "scaler_file_pickle = open(scaler_file_path, 'wb')"
   ]
  },
  {
   "cell_type": "code",
   "execution_count": 97,
   "id": "2b74f93e",
   "metadata": {},
   "outputs": [],
   "source": [
    "# persist the model and scaler\n",
    "pickle.dump(clf, model_file_pickle)\n",
    "pickle.dump(scaler, scaler_file_pickle)"
   ]
  },
  {
   "cell_type": "code",
   "execution_count": 98,
   "id": "d8b9d8b2",
   "metadata": {},
   "outputs": [],
   "source": [
    "# close the files\n",
    "model_file_pickle.close()\n",
    "scaler_file_pickle.close()"
   ]
  },
  {
   "cell_type": "markdown",
   "id": "57e7aa6c",
   "metadata": {},
   "source": [
    "#### Load the Persisted File"
   ]
  },
  {
   "cell_type": "code",
   "execution_count": 100,
   "id": "fdafa9f6",
   "metadata": {},
   "outputs": [],
   "source": [
    "# Open the files in read mode\n",
    "model_file_pickle = open(model_file_path, 'rb')\n",
    "scaler_file_pickle = open(scaler_file_path, 'rb')\n",
    "\n",
    "# load files\n",
    "clf_loaded = pickle.load(model_file_pickle)\n",
    "scaler_loaded = pickle.load(scaler_file_pickle)\n",
    "\n",
    "# close the files\n",
    "model_file_pickle.close()\n",
    "scaler_file_pickle.close()"
   ]
  },
  {
   "cell_type": "code",
   "execution_count": 101,
   "id": "b80016e3",
   "metadata": {},
   "outputs": [
    {
     "data": {
      "text/plain": [
       "GridSearchCV(cv=3, estimator=LogisticRegression(),\n",
       "             param_grid={'C': [1.0, 10.0, 50.0, 100.0, 1000.0],\n",
       "                         'penalty': ['l1', 'l2']})"
      ]
     },
     "execution_count": 101,
     "metadata": {},
     "output_type": "execute_result"
    }
   ],
   "source": [
    "clf_loaded"
   ]
  },
  {
   "cell_type": "code",
   "execution_count": 102,
   "id": "efaf5445",
   "metadata": {},
   "outputs": [
    {
     "data": {
      "text/plain": [
       "StandardScaler()"
      ]
     },
     "execution_count": 102,
     "metadata": {},
     "output_type": "execute_result"
    }
   ],
   "source": [
    "scaler_loaded"
   ]
  },
  {
   "cell_type": "code",
   "execution_count": 103,
   "id": "6f656ea9",
   "metadata": {},
   "outputs": [
    {
     "name": "stdout",
     "output_type": "stream",
     "text": [
      "Score for the Persisted Logistic Regression Model is : 0.84\n"
     ]
    }
   ],
   "source": [
    "X_test_scaled = scaler_loaded.transform(X_test)\n",
    "print('Score for the Persisted Logistic Regression Model is : {0:.2f}'.format(clf_loaded.score(X_test_scaled, y_test)))"
   ]
  }
 ],
 "metadata": {
  "kernelspec": {
   "display_name": "Python 3",
   "language": "python",
   "name": "python3"
  },
  "language_info": {
   "codemirror_mode": {
    "name": "ipython",
    "version": 3
   },
   "file_extension": ".py",
   "mimetype": "text/x-python",
   "name": "python",
   "nbconvert_exporter": "python",
   "pygments_lexer": "ipython3",
   "version": "3.8.11"
  }
 },
 "nbformat": 4,
 "nbformat_minor": 5
}
