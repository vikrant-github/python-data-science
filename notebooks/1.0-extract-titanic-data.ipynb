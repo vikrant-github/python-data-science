{
 "cells": [
  {
   "cell_type": "code",
   "execution_count": 1,
   "id": "dec81ba5",
   "metadata": {},
   "outputs": [],
   "source": [
    "#!pip install python-dotenv\n",
    "! python -c 'python-dotenv' || pip python-dotenv --user"
   ]
  },
  {
   "cell_type": "code",
   "execution_count": 2,
   "id": "d627b7e9",
   "metadata": {},
   "outputs": [],
   "source": [
    "import os\n",
    "import requests\n",
    "from requests import session\n",
    "from dotenv import load_dotenv, find_dotenv"
   ]
  },
  {
   "cell_type": "code",
   "execution_count": 3,
   "id": "dec91954",
   "metadata": {},
   "outputs": [],
   "source": [
    "#! pip install kaggle\n",
    "! python -c 'kaggle' || pip install kaggle --user"
   ]
  },
  {
   "cell_type": "code",
   "execution_count": 4,
   "id": "95a44f72",
   "metadata": {},
   "outputs": [],
   "source": [
    "download_dir = os.path.join (os.path.pardir, 'data', 'raw')"
   ]
  },
  {
   "cell_type": "code",
   "execution_count": 5,
   "id": "1d7b8aa6",
   "metadata": {},
   "outputs": [
    {
     "name": "stdout",
     "output_type": "stream",
     "text": [
      "titanic.zip: Skipping, found more recently modified local copy (use --force to force download)\n"
     ]
    }
   ],
   "source": [
    "#!kaggle competitions download -c titanic --force -p ..\\data\\raw\n",
    "!kaggle competitions download -c titanic -p ..\\data\\raw"
   ]
  },
  {
   "cell_type": "code",
   "execution_count": 6,
   "id": "9e4c3c2a",
   "metadata": {},
   "outputs": [],
   "source": [
    "file_name = !ls -lrt ../data/raw"
   ]
  },
  {
   "cell_type": "code",
   "execution_count": 7,
   "id": "b1dbff11",
   "metadata": {},
   "outputs": [
    {
     "name": "stdout",
     "output_type": "stream",
     "text": [
      "['total 128', '-rw-r--r-- 1 mail2 197609 34877 Jan  2 11:45 titanic.zip', '-rw-r--r-- 1 mail2 197609  3258 Jan  2 11:47 gender_submission.csv', '-rw-r--r-- 1 mail2 197609 28629 Jan  2 11:47 test.csv', '-rw-r--r-- 1 mail2 197609 61194 Jan  2 11:47 train.csv']\n"
     ]
    }
   ],
   "source": [
    "print(file_name)"
   ]
  },
  {
   "cell_type": "code",
   "execution_count": 8,
   "id": "69edf0ba",
   "metadata": {},
   "outputs": [
    {
     "name": "stdout",
     "output_type": "stream",
     "text": [
      "..\\data\\raw\\titanic.zip\n"
     ]
    }
   ],
   "source": [
    "extract_path = os.path.join(download_dir, \"titanic.zip\")\n",
    "print(extract_path)"
   ]
  },
  {
   "cell_type": "code",
   "execution_count": 9,
   "id": "6d32c259",
   "metadata": {},
   "outputs": [],
   "source": [
    "from zipfile import ZipFile\n",
    "zf = ZipFile(extract_path, 'r')\n",
    "zf.extractall(download_dir)\n",
    "zf.close()"
   ]
  },
  {
   "cell_type": "code",
   "execution_count": 10,
   "id": "23fa16c7",
   "metadata": {},
   "outputs": [],
   "source": [
    "train_data_path = os.path.join(download_dir, 'train.csv')\n",
    "test_data_path= os.path.join(download_dir, 'test.csv')"
   ]
  },
  {
   "cell_type": "code",
   "execution_count": 11,
   "id": "3151ac3d",
   "metadata": {},
   "outputs": [
    {
     "name": "stdout",
     "output_type": "stream",
     "text": [
      "..\\data\\raw\\train.csv\n",
      "..\\data\\raw\\test.csv\n"
     ]
    }
   ],
   "source": [
    "print(train_data_path)\n",
    "print(test_data_path)"
   ]
  }
 ],
 "metadata": {
  "kernelspec": {
   "display_name": "Python 3",
   "language": "python",
   "name": "python3"
  },
  "language_info": {
   "codemirror_mode": {
    "name": "ipython",
    "version": 3
   },
   "file_extension": ".py",
   "mimetype": "text/x-python",
   "name": "python",
   "nbconvert_exporter": "python",
   "pygments_lexer": "ipython3",
   "version": "3.8.11"
  }
 },
 "nbformat": 4,
 "nbformat_minor": 5
}
